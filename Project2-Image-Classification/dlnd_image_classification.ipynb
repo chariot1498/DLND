{
 "cells": [
  {
   "cell_type": "markdown",
   "metadata": {
    "collapsed": true
   },
   "source": [
    "# Image Classification\n",
    "In this project, you'll classify images from the [CIFAR-10 dataset](https://www.cs.toronto.edu/~kriz/cifar.html).  The dataset consists of airplanes, dogs, cats, and other objects. You'll preprocess the images, then train a convolutional neural network on all the samples. The images need to be normalized and the labels need to be one-hot encoded.  You'll get to apply what you learned and build a convolutional, max pooling, dropout, and fully connected layers.  At the end, you'll get to see your neural network's predictions on the sample images.\n",
    "## Get the Data\n",
    "Run the following cell to download the [CIFAR-10 dataset for python](https://www.cs.toronto.edu/~kriz/cifar-10-python.tar.gz)."
   ]
  },
  {
   "cell_type": "code",
   "execution_count": 1,
   "metadata": {},
   "outputs": [
    {
     "name": "stdout",
     "output_type": "stream",
     "text": [
      "All files found!\n"
     ]
    }
   ],
   "source": [
    "\"\"\"\n",
    "DON'T MODIFY ANYTHING IN THIS CELL THAT IS BELOW THIS LINE\n",
    "\"\"\"\n",
    "from urllib.request import urlretrieve\n",
    "from os.path import isfile, isdir\n",
    "from tqdm import tqdm\n",
    "import problem_unittests as tests\n",
    "import tarfile\n",
    "\n",
    "cifar10_dataset_folder_path = 'cifar-10-batches-py'\n",
    "\n",
    "# Use Floyd's cifar-10 dataset if present\n",
    "floyd_cifar10_location = '/input/cifar-10/python.tar.gz'\n",
    "if isfile(floyd_cifar10_location):\n",
    "    tar_gz_path = floyd_cifar10_location\n",
    "else:\n",
    "    tar_gz_path = 'cifar-10-python.tar.gz'\n",
    "\n",
    "class DLProgress(tqdm):\n",
    "    last_block = 0\n",
    "\n",
    "    def hook(self, block_num=1, block_size=1, total_size=None):\n",
    "        self.total = total_size\n",
    "        self.update((block_num - self.last_block) * block_size)\n",
    "        self.last_block = block_num\n",
    "\n",
    "if not isfile(tar_gz_path):\n",
    "    with DLProgress(unit='B', unit_scale=True, miniters=1, desc='CIFAR-10 Dataset') as pbar:\n",
    "        urlretrieve(\n",
    "            'https://www.cs.toronto.edu/~kriz/cifar-10-python.tar.gz',\n",
    "            tar_gz_path,\n",
    "            pbar.hook)\n",
    "\n",
    "if not isdir(cifar10_dataset_folder_path):\n",
    "    with tarfile.open(tar_gz_path) as tar:\n",
    "        tar.extractall()\n",
    "        tar.close()\n",
    "\n",
    "\n",
    "tests.test_folder_path(cifar10_dataset_folder_path)"
   ]
  },
  {
   "cell_type": "markdown",
   "metadata": {},
   "source": [
    "## Explore the Data\n",
    "The dataset is broken into batches to prevent your machine from running out of memory.  The CIFAR-10 dataset consists of 5 batches, named `data_batch_1`, `data_batch_2`, etc.. Each batch contains the labels and images that are one of the following:\n",
    "* airplane\n",
    "* automobile\n",
    "* bird\n",
    "* cat\n",
    "* deer\n",
    "* dog\n",
    "* frog\n",
    "* horse\n",
    "* ship\n",
    "* truck\n",
    "\n",
    "Understanding a dataset is part of making predictions on the data.  Play around with the code cell below by changing the `batch_id` and `sample_id`. The `batch_id` is the id for a batch (1-5). The `sample_id` is the id for a image and label pair in the batch.\n",
    "\n",
    "Ask yourself \"What are all possible labels?\", \"What is the range of values for the image data?\", \"Are the labels in order or random?\".  Answers to questions like these will help you preprocess the data and end up with better predictions."
   ]
  },
  {
   "cell_type": "code",
   "execution_count": 2,
   "metadata": {},
   "outputs": [
    {
     "name": "stdout",
     "output_type": "stream",
     "text": [
      "\n",
      "Stats of batch 2:\n",
      "Samples: 10000\n",
      "Label Counts: {0: 984, 1: 1007, 2: 1010, 3: 995, 4: 1010, 5: 988, 6: 1008, 7: 1026, 8: 987, 9: 985}\n",
      "First 20 Labels: [1, 6, 6, 8, 8, 3, 4, 6, 0, 6, 0, 3, 6, 6, 5, 4, 8, 3, 2, 6]\n",
      "\n",
      "Example of Image 4:\n",
      "Image - Min Value: 0 Max Value: 255\n",
      "Image - Shape: (32, 32, 3)\n",
      "Label - Label Id: 8 Name: ship\n"
     ]
    },
    {
     "data": {
      "image/png": "[encoded data removed]",
      "text/plain": [
       "<matplotlib.figure.Figure at 0x10ed52d30>"
      ]
     },
     "metadata": {
      "image/png": {
       "height": 250,
       "width": 253
      }
     },
     "output_type": "display_data"
    }
   ],
   "source": [
    "%matplotlib inline\n",
    "%config InlineBackend.figure_format = 'retina'\n",
    "\n",
    "import helper\n",
    "import numpy as np\n",
    "\n",
    "# Explore the dataset\n",
    "batch_id = 2\n",
    "sample_id = 4\n",
    "helper.display_stats(cifar10_dataset_folder_path, batch_id, sample_id)"
   ]
  },
  {
   "cell_type": "markdown",
   "metadata": {},
   "source": [
    "## Implement Preprocess Functions\n",
    "### Normalize\n",
    "In the cell below, implement the `normalize` function to take in image data, `x`, and return it as a normalized Numpy array. The values should be in the range of 0 to 1, inclusive.  The return object should be the same shape as `x`."
   ]
  },
  {
   "cell_type": "code",
   "execution_count": 3,
   "metadata": {},
   "outputs": [
    {
     "name": "stdout",
     "output_type": "stream",
     "text": [
      "Tests Passed\n"
     ]
    }
   ],
   "source": [
    "def normalize(x):\n",
    "    \"\"\"\n",
    "    Normalize a list of sample image data in the range of 0 to 1\n",
    "    : x: List of image data.  The image shape is (32, 32, 3)\n",
    "    : return: Numpy array of normalize data\n",
    "    \"\"\"\n",
    "    # TODO: Implement Function\n",
    "    return x / 255\n",
    "\n",
    "\n",
    "\"\"\"\n",
    "DON'T MODIFY ANYTHING IN THIS CELL THAT IS BELOW THIS LINE\n",
    "\"\"\"\n",
    "tests.test_normalize(normalize)"
   ]
  },
  {
   "cell_type": "markdown",
   "metadata": {},
   "source": [
    "### One-hot encode\n",
    "Just like the previous code cell, you'll be implementing a function for preprocessing.  This time, you'll implement the `one_hot_encode` function. The input, `x`, are a list of labels.  Implement the function to return the list of labels as One-Hot encoded Numpy array.  The possible values for labels are 0 to 9. The one-hot encoding function should return the same encoding for each value between each call to `one_hot_encode`.  Make sure to save the map of encodings outside the function.\n",
    "\n",
    "Hint: Don't reinvent the wheel."
   ]
  },
  {
   "cell_type": "code",
   "execution_count": 4,
   "metadata": {},
   "outputs": [
    {
     "name": "stdout",
     "output_type": "stream",
     "text": [
      "Tests Passed\n"
     ]
    }
   ],
   "source": [
    "\n",
    "\n",
    "def one_hot_encode(x):\n",
    "    \"\"\"\n",
    "    One hot encode a list of sample labels. Return a one-hot encoded vector for each label.\n",
    "    : x: List of sample Labels\n",
    "    : return: Numpy array of one-hot encoded labels\n",
    "    \"\"\"\n",
    "    # TODO: Implement Function\n",
    "    b = []\n",
    "    for i in x:\n",
    "        a = np.zeros(10)\n",
    "        a[i] = 1\n",
    "        b.append(a)\n",
    "    return np.asarray(b)\n",
    "\n",
    "\n",
    "\"\"\"\n",
    "DON'T MODIFY ANYTHING IN THIS CELL THAT IS BELOW THIS LINE\n",
    "\"\"\"\n",
    "tests.test_one_hot_encode(one_hot_encode)"
   ]
  },
  {
   "cell_type": "markdown",
   "metadata": {},
   "source": [
    "### Randomize Data\n",
    "As you saw from exploring the data above, the order of the samples are randomized.  It doesn't hurt to randomize it again, but you don't need to for this dataset."
   ]
  },
  {
   "cell_type": "markdown",
   "metadata": {},
   "source": [
    "## Preprocess all the data and save it\n",
    "Running the code cell below will preprocess all the CIFAR-10 data and save it to file. The code below also uses 10% of the training data for validation."
   ]
  },
  {
   "cell_type": "code",
   "execution_count": 5,
   "metadata": {},
   "outputs": [],
   "source": [
    "\"\"\"\n",
    "DON'T MODIFY ANYTHING IN THIS CELL\n",
    "\"\"\"\n",
    "# Preprocess Training, Validation, and Testing Data\n",
    "helper.preprocess_and_save_data(cifar10_dataset_folder_path, normalize, one_hot_encode)"
   ]
  },
  {
   "cell_type": "markdown",
   "metadata": {},
   "source": [
    "# Check Point\n",
    "This is your first checkpoint.  If you ever decide to come back to this notebook or have to restart the notebook, you can start from here.  The preprocessed data has been saved to disk."
   ]
  },
  {
   "cell_type": "code",
   "execution_count": 6,
   "metadata": {
    "collapsed": true
   },
   "outputs": [],
   "source": [
    "\"\"\"\n",
    "DON'T MODIFY ANYTHING IN THIS CELL\n",
    "\"\"\"\n",
    "import pickle\n",
    "import problem_unittests as tests\n",
    "import helper\n",
    "\n",
    "# Load the Preprocessed Validation data\n",
    "valid_features, valid_labels = pickle.load(open('preprocess_validation.p', mode='rb'))"
   ]
  },
  {
   "cell_type": "markdown",
   "metadata": {},
   "source": [
    "## Build the network\n",
    "For the neural network, you'll build each layer into a function.  Most of the code you've seen has been outside of functions. To test your code more thoroughly, we require that you put each layer in a function.  This allows us to give you better feedback and test for simple mistakes using our unittests before you submit your project.\n",
    "\n",
    ">**Note:** If you're finding it hard to dedicate enough time for this course each week, we've provided a small shortcut to this part of the project. In the next couple of problems, you'll have the option to use classes from the [TensorFlow Layers](https://www.tensorflow.org/api_docs/python/tf/layers) or [TensorFlow Layers (contrib)](https://www.tensorflow.org/api_guides/python/contrib.layers) packages to build each layer, except the layers you build in the \"Convolutional and Max Pooling Layer\" section.  TF Layers is similar to Keras's and TFLearn's abstraction to layers, so it's easy to pickup.\n",
    "\n",
    ">However, if you would like to get the most out of this course, try to solve all the problems _without_ using anything from the TF Layers packages. You **can** still use classes from other packages that happen to have the same name as ones you find in TF Layers! For example, instead of using the TF Layers version of the `conv2d` class, [tf.layers.conv2d](https://www.tensorflow.org/api_docs/python/tf/layers/conv2d), you would want to use the TF Neural Network version of `conv2d`, [tf.nn.conv2d](https://www.tensorflow.org/api_docs/python/tf/nn/conv2d). \n",
    "\n",
    "Let's begin!\n",
    "\n",
    "### Input\n",
    "The neural network needs to read the image data, one-hot encoded labels, and dropout keep probability. Implement the following functions\n",
    "* Implement `neural_net_image_input`\n",
    " * Return a [TF Placeholder](https://www.tensorflow.org/api_docs/python/tf/placeholder)\n",
    " * Set the shape using `image_shape` with batch size set to `None`.\n",
    " * Name the TensorFlow placeholder \"x\" using the TensorFlow `name` parameter in the [TF Placeholder](https://www.tensorflow.org/api_docs/python/tf/placeholder).\n",
    "* Implement `neural_net_label_input`\n",
    " * Return a [TF Placeholder](https://www.tensorflow.org/api_docs/python/tf/placeholder)\n",
    " * Set the shape using `n_classes` with batch size set to `None`.\n",
    " * Name the TensorFlow placeholder \"y\" using the TensorFlow `name` parameter in the [TF Placeholder](https://www.tensorflow.org/api_docs/python/tf/placeholder).\n",
    "* Implement `neural_net_keep_prob_input`\n",
    " * Return a [TF Placeholder](https://www.tensorflow.org/api_docs/python/tf/placeholder) for dropout keep probability.\n",
    " * Name the TensorFlow placeholder \"keep_prob\" using the TensorFlow `name` parameter in the [TF Placeholder](https://www.tensorflow.org/api_docs/python/tf/placeholder).\n",
    "\n",
    "These names will be used at the end of the project to load your saved model.\n",
    "\n",
    "Note: `None` for shapes in TensorFlow allow for a dynamic size."
   ]
  },
  {
   "cell_type": "code",
   "execution_count": 7,
   "metadata": {},
   "outputs": [
    {
     "name": "stdout",
     "output_type": "stream",
     "text": [
      "Image Input Tests Passed.\n",
      "Label Input Tests Passed.\n",
      "Keep Prob Tests Passed.\n"
     ]
    }
   ],
   "source": [
    "import tensorflow as tf\n",
    "\n",
    "def neural_net_image_input(image_shape):\n",
    "    \"\"\"\n",
    "    Return a Tensor for a batch of image input\n",
    "    : image_shape: Shape of the images\n",
    "    : return: Tensor for image input.\n",
    "    \"\"\"\n",
    "    # TODO: Implement Function\n",
    "    return tf.placeholder(tf.float32, [None, image_shape[0], image_shape[1], image_shape[2]], name='x')\n",
    "\n",
    "\n",
    "def neural_net_label_input(n_classes):\n",
    "    \"\"\"\n",
    "    Return a Tensor for a batch of label input\n",
    "    : n_classes: Number of classes\n",
    "    : return: Tensor for label input.\n",
    "    \"\"\"\n",
    "    # TODO: Implement Function\n",
    "    return tf.placeholder(tf.float32, [None, n_classes], name='y')\n",
    "\n",
    "\n",
    "def neural_net_keep_prob_input():\n",
    "    \"\"\"\n",
    "    Return a Tensor for keep probability\n",
    "    : return: Tensor for keep probability.\n",
    "    \"\"\"\n",
    "    # TODO: Implement Function\n",
    "    return tf.placeholder(tf.float32, name='keep_prob')\n",
    "\n",
    "\n",
    "\"\"\"\n",
    "DON'T MODIFY ANYTHING IN THIS CELL THAT IS BELOW THIS LINE\n",
    "\"\"\"\n",
    "tf.reset_default_graph()\n",
    "tests.test_nn_image_inputs(neural_net_image_input)\n",
    "tests.test_nn_label_inputs(neural_net_label_input)\n",
    "tests.test_nn_keep_prob_inputs(neural_net_keep_prob_input)"
   ]
  },
  {
   "cell_type": "markdown",
   "metadata": {},
   "source": [
    "### Convolution and Max Pooling Layer\n",
    "Convolution layers have a lot of success with images. For this code cell, you should implement the function `conv2d_maxpool` to apply convolution then max pooling:\n",
    "* Create the weight and bias using `conv_ksize`, `conv_num_outputs` and the shape of `x_tensor`.\n",
    "* Apply a convolution to `x_tensor` using weight and `conv_strides`.\n",
    " * We recommend you use same padding, but you're welcome to use any padding.\n",
    "* Add bias\n",
    "* Add a nonlinear activation to the convolution.\n",
    "* Apply Max Pooling using `pool_ksize` and `pool_strides`.\n",
    " * We recommend you use same padding, but you're welcome to use any padding.\n",
    "\n",
    "**Note:** You **can't** use [TensorFlow Layers](https://www.tensorflow.org/api_docs/python/tf/layers) or [TensorFlow Layers (contrib)](https://www.tensorflow.org/api_guides/python/contrib.layers) for **this** layer, but you can still use TensorFlow's [Neural Network](https://www.tensorflow.org/api_docs/python/tf/nn) package. You may still use the shortcut option for all the **other** layers."
   ]
  },
  {
   "cell_type": "code",
   "execution_count": 9,
   "metadata": {},
   "outputs": [
    {
     "name": "stdout",
     "output_type": "stream",
     "text": [
      "Tests Passed\n"
     ]
    }
   ],
   "source": [
    "MEAN = 0.001\n",
    "STDDEV = 0.05\n",
    "\n",
    "def conv2d_maxpool(x_tensor, conv_num_outputs, conv_ksize, conv_strides, pool_ksize, pool_strides):\n",
    "    \"\"\"\n",
    "    Apply convolution then max pooling to x_tensor\n",
    "    :param x_tensor: TensorFlow Tensor\n",
    "    :param conv_num_outputs: Number of outputs for the convolutional layer\n",
    "    :param conv_strides: Stride 2-D Tuple for convolution\n",
    "    :param pool_ksize: kernel size 2-D Tuple for pool\n",
    "    :param pool_strides: Stride 2-D Tuple for pool\n",
    "    :return: A tensor that represents convolution and max pooling of x_tensor\n",
    "    \"\"\"\n",
    "    # TODO: Implement Function\n",
    "    x_batch, x_height, x_width, x_depth = x_tensor.shape\n",
    "    filter_weights = tf.Variable(tf.truncated_normal(mean=MEAN, stddev=STDDEV, shape=[*conv_ksize, x_depth.value, conv_num_outputs]))\n",
    "    bias = tf.Variable(tf.truncated_normal(mean=MEAN, stddev=STDDEV, shape=[conv_num_outputs]))\n",
    "    x = tf.nn.conv2d(x_tensor, filter_weights, strides=[1, *conv_strides, 1], padding='SAME')\n",
    "    x = tf.nn.bias_add(x, bias)\n",
    "    x = tf.nn.relu(x)\n",
    "    x = tf.nn.max_pool(x, ksize=[1, *pool_ksize, 1], strides=[1, *pool_strides, 1], padding='SAME')\n",
    "    return x\n",
    "\n",
    "\n",
    "\"\"\"\n",
    "DON'T MODIFY ANYTHING IN THIS CELL THAT IS BELOW THIS LINE\n",
    "\"\"\"\n",
    "tests.test_con_pool(conv2d_maxpool)"
   ]
  },
  {
   "cell_type": "markdown",
   "metadata": {},
   "source": [
    "### Flatten Layer\n",
    "Implement the `flatten` function to change the dimension of `x_tensor` from a 4-D tensor to a 2-D tensor.  The output should be the shape (*Batch Size*, *Flattened Image Size*). Shortcut option: you can use classes from the [TensorFlow Layers](https://www.tensorflow.org/api_docs/python/tf/layers) or [TensorFlow Layers (contrib)](https://www.tensorflow.org/api_guides/python/contrib.layers) packages for this layer. For more of a challenge, only use other TensorFlow packages."
   ]
  },
  {
   "cell_type": "code",
   "execution_count": 11,
   "metadata": {},
   "outputs": [
    {
     "name": "stdout",
     "output_type": "stream",
     "text": [
      "Tests Passed\n"
     ]
    }
   ],
   "source": [
    "def flatten(x_tensor):\n",
    "    \"\"\"\n",
    "    Flatten x_tensor to (Batch Size, Flattened Image Size)\n",
    "    : x_tensor: A tensor of size (Batch Size, ...), where ... are the image dimensions.\n",
    "    : return: A tensor of size (Batch Size, Flattened Image Size).\n",
    "    \"\"\"\n",
    "    # TODO: Implement Function\n",
    "    return tf.contrib.layers.flatten(x_tensor)\n",
    "\n",
    "\"\"\"\n",
    "DON'T MODIFY ANYTHING IN THIS CELL THAT IS BELOW THIS LINE\n",
    "\"\"\"\n",
    "tests.test_flatten(flatten)"
   ]
  },
  {
   "cell_type": "markdown",
   "metadata": {},
   "source": [
    "### Fully-Connected Layer\n",
    "Implement the `fully_conn` function to apply a fully connected layer to `x_tensor` with the shape (*Batch Size*, *num_outputs*). Shortcut option: you can use classes from the [TensorFlow Layers](https://www.tensorflow.org/api_docs/python/tf/layers) or [TensorFlow Layers (contrib)](https://www.tensorflow.org/api_guides/python/contrib.layers) packages for this layer. For more of a challenge, only use other TensorFlow packages."
   ]
  },
  {
   "cell_type": "code",
   "execution_count": 12,
   "metadata": {},
   "outputs": [
    {
     "name": "stdout",
     "output_type": "stream",
     "text": [
      "Tests Passed\n"
     ]
    }
   ],
   "source": [
    "def fully_conn(x_tensor, num_outputs):\n",
    "    \"\"\"\n",
    "    Apply a fully connected layer to x_tensor using weight and bias\n",
    "    : x_tensor: A 2-D tensor where the first dimension is batch size.\n",
    "    : num_outputs: The number of output that the new tensor should be.\n",
    "    : return: A 2-D tensor where the second dimension is num_outputs.\n",
    "    \"\"\"\n",
    "    weights = tf.Variable(tf.truncated_normal(mean=MEAN, stddev=STDDEV, shape=[x_tensor.shape[1].value, num_outputs]))\n",
    "    bias = tf.Variable(tf.truncated_normal(mean=MEAN, stddev=STDDEV, shape=[num_outputs]))\n",
    "    return tf.add(tf.matmul(x_tensor, weights), bias)\n",
    "\n",
    "\n",
    "\"\"\"\n",
    "DON'T MODIFY ANYTHING IN THIS CELL THAT IS BELOW THIS LINE\n",
    "\"\"\"\n",
    "tests.test_fully_conn(fully_conn)"
   ]
  },
  {
   "cell_type": "markdown",
   "metadata": {},
   "source": [
    "### Output Layer\n",
    "Implement the `output` function to apply a fully connected layer to `x_tensor` with the shape (*Batch Size*, *num_outputs*). Shortcut option: you can use classes from the [TensorFlow Layers](https://www.tensorflow.org/api_docs/python/tf/layers) or [TensorFlow Layers (contrib)](https://www.tensorflow.org/api_guides/python/contrib.layers) packages for this layer. For more of a challenge, only use other TensorFlow packages.\n",
    "\n",
    "**Note:** Activation, softmax, or cross entropy should **not** be applied to this."
   ]
  },
  {
   "cell_type": "code",
   "execution_count": 13,
   "metadata": {},
   "outputs": [
    {
     "name": "stdout",
     "output_type": "stream",
     "text": [
      "Tests Passed\n"
     ]
    }
   ],
   "source": [
    "def output(x_tensor, num_outputs):\n",
    "    \"\"\"\n",
    "    Apply a output layer to x_tensor using weight and bias\n",
    "    : x_tensor: A 2-D tensor where the first dimension is batch size.\n",
    "    : num_outputs: The number of output that the new tensor should be.\n",
    "    : return: A 2-D tensor where the second dimension is num_outputs.\n",
    "    \"\"\"\n",
    "    # TODO: Implement Function\n",
    "    weights = tf.Variable(tf.truncated_normal(mean=MEAN, stddev=STDDEV, shape=[x_tensor.shape[1].value, num_outputs]))\n",
    "    bias = tf.Variable(tf.truncated_normal(mean=MEAN, stddev=STDDEV, shape=[num_outputs]))\n",
    "    return tf.add(tf.matmul(x_tensor, weights), bias)\n",
    "\n",
    "\n",
    "\"\"\"\n",
    "DON'T MODIFY ANYTHING IN THIS CELL THAT IS BELOW THIS LINE\n",
    "\"\"\"\n",
    "tests.test_output(output)"
   ]
  },
  {
   "cell_type": "markdown",
   "metadata": {},
   "source": [
    "### Create Convolutional Model\n",
    "Implement the function `conv_net` to create a convolutional neural network model. The function takes in a batch of images, `x`, and outputs logits.  Use the layers you created above to create this model:\n",
    "\n",
    "* Apply 1, 2, or 3 Convolution and Max Pool layers\n",
    "* Apply a Flatten Layer\n",
    "* Apply 1, 2, or 3 Fully Connected Layers\n",
    "* Apply an Output Layer\n",
    "* Return the output\n",
    "* Apply [TensorFlow's Dropout](https://www.tensorflow.org/api_docs/python/tf/nn/dropout) to one or more layers in the model using `keep_prob`. "
   ]
  },
  {
   "cell_type": "code",
   "execution_count": 15,
   "metadata": {},
   "outputs": [
    {
     "name": "stdout",
     "output_type": "stream",
     "text": [
      "Neural Network Built!\n"
     ]
    }
   ],
   "source": [
    "def conv_net(x, keep_prob):\n",
    "    \"\"\"\n",
    "    Create a convolutional neural network model\n",
    "    : x: Placeholder tensor that holds image data.\n",
    "    : keep_prob: Placeholder tensor that hold dropout keep probability.\n",
    "    : return: Tensor that represents logits\n",
    "    \"\"\"\n",
    "    # TODO: Apply 1, 2, or 3 Convolution and Max Pool layers\n",
    "    #    Play around with different number of outputs, kernel size and stride\n",
    "    # Function Definition from Above:\n",
    "    #    conv2d_maxpool(x_tensor, conv_num_outputs, conv_ksize, conv_strides, pool_ksize, pool_strides)\n",
    "    conv1 = conv2d_maxpool(x, 64, (2,2), (2,2), (2,2), (1,1))\n",
    "    conv2 = conv2d_maxpool(conv1, 128, (2,2), (2,2), (2,2), (1,1))\n",
    "    # TODO: Apply a Flatten Layer\n",
    "    # Function Definition from Above:\n",
    "    flat = flatten(conv2)\n",
    "    \n",
    "    \n",
    "    # TODO: Apply 1, 2, or 3 Fully Connected Layers\n",
    "    #    Play around with different number of outputs\n",
    "    # Function Definition from Above:\n",
    "    fc1 = fully_conn(flat, 512)\n",
    "    fc2 = fully_conn(fc1, 512)\n",
    "    final = tf.nn.dropout(fc2, keep_prob)\n",
    "    \n",
    "    # TODO: Apply an Output Layer\n",
    "    #    Set this to the number of classes\n",
    "    # Function Definition from Above:\n",
    "    out = output(final, num_outputs=10)\n",
    "    \n",
    "    # TODO: return output\n",
    "    return out\n",
    "\n",
    "\n",
    "\"\"\"\n",
    "DON'T MODIFY ANYTHING IN THIS CELL THAT IS BELOW THIS LINE\n",
    "\"\"\"\n",
    "\n",
    "##############################\n",
    "## Build the Neural Network ##\n",
    "##############################\n",
    "\n",
    "# Remove previous weights, bias, inputs, etc..\n",
    "tf.reset_default_graph()\n",
    "\n",
    "# Inputs\n",
    "x = neural_net_image_input((32, 32, 3))\n",
    "y = neural_net_label_input(10)\n",
    "keep_prob = neural_net_keep_prob_input()\n",
    "\n",
    "# Model\n",
    "logits = conv_net(x, keep_prob)\n",
    "\n",
    "# Name logits Tensor, so that is can be loaded from disk after training\n",
    "logits = tf.identity(logits, name='logits')\n",
    "\n",
    "# Loss and Optimizer\n",
    "cost = tf.reduce_mean(tf.nn.softmax_cross_entropy_with_logits(logits=logits, labels=y))\n",
    "optimizer = tf.train.AdamOptimizer().minimize(cost)\n",
    "\n",
    "# Accuracy\n",
    "correct_pred = tf.equal(tf.argmax(logits, 1), tf.argmax(y, 1))\n",
    "accuracy = tf.reduce_mean(tf.cast(correct_pred, tf.float32), name='accuracy')\n",
    "\n",
    "tests.test_conv_net(conv_net)"
   ]
  },
  {
   "cell_type": "markdown",
   "metadata": {},
   "source": [
    "## Train the Neural Network\n",
    "### Single Optimization\n",
    "Implement the function `train_neural_network` to do a single optimization.  The optimization should use `optimizer` to optimize in `session` with a `feed_dict` of the following:\n",
    "* `x` for image input\n",
    "* `y` for labels\n",
    "* `keep_prob` for keep probability for dropout\n",
    "\n",
    "This function will be called for each batch, so `tf.global_variables_initializer()` has already been called.\n",
    "\n",
    "Note: Nothing needs to be returned. This function is only optimizing the neural network."
   ]
  },
  {
   "cell_type": "code",
   "execution_count": 16,
   "metadata": {},
   "outputs": [
    {
     "name": "stdout",
     "output_type": "stream",
     "text": [
      "Tests Passed\n"
     ]
    }
   ],
   "source": [
    "def train_neural_network(session, optimizer, keep_probability, feature_batch, label_batch):\n",
    "    \"\"\"\n",
    "    Optimize the session on a batch of images and labels\n",
    "    : session: Current TensorFlow session\n",
    "    : optimizer: TensorFlow optimizer function\n",
    "    : keep_probability: keep probability\n",
    "    : feature_batch: Batch of Numpy image data\n",
    "    : label_batch: Batch of Numpy label data\n",
    "    \"\"\"\n",
    "    # TODO: Implement Function\n",
    "    session.run(optimizer, feed_dict = {'keep_prob:0': keep_probability, 'x:0': feature_batch, 'y:0': label_batch})\n",
    "\n",
    "\"\"\"\n",
    "DON'T MODIFY ANYTHING IN THIS CELL THAT IS BELOW THIS LINE\n",
    "\"\"\"\n",
    "tests.test_train_nn(train_neural_network)"
   ]
  },
  {
   "cell_type": "markdown",
   "metadata": {},
   "source": [
    "### Show Stats\n",
    "Implement the function `print_stats` to print loss and validation accuracy.  Use the global variables `valid_features` and `valid_labels` to calculate validation accuracy.  Use a keep probability of `1.0` to calculate the loss and validation accuracy."
   ]
  },
  {
   "cell_type": "code",
   "execution_count": 17,
   "metadata": {},
   "outputs": [],
   "source": [
    "def print_stats(session, feature_batch, label_batch, cost, accuracy):\n",
    "    \"\"\"\n",
    "    Print information about loss and validation accuracy\n",
    "    : session: Current TensorFlow session\n",
    "    : feature_batch: Batch of Numpy image data\n",
    "    : label_batch: Batch of Numpy label data\n",
    "    : cost: TensorFlow cost function\n",
    "    : accuracy: TensorFlow accuracy function\n",
    "    \"\"\"\n",
    "    # TODO: Implement Function\n",
    "    cost = session.run(cost, feed_dict = {'keep_prob:0': 1.0, 'x:0': feature_batch, 'y:0': label_batch})\n",
    "    accuracy = session.run(accuracy, feed_dict = {'keep_prob:0': 1.0, 'x:0': valid_features, 'y:0': valid_labels})\n",
    "    print(\"cost: {}, accuracy: {}\".format(cost, accuracy))"
   ]
  },
  {
   "cell_type": "markdown",
   "metadata": {},
   "source": [
    "### Hyperparameters\n",
    "Tune the following parameters:\n",
    "* Set `epochs` to the number of iterations until the network stops learning or start overfitting\n",
    "* Set `batch_size` to the highest number that your machine has memory for.  Most people set them to common sizes of memory:\n",
    " * 64\n",
    " * 128\n",
    " * 256\n",
    " * ...\n",
    "* Set `keep_probability` to the probability of keeping a node using dropout"
   ]
  },
  {
   "cell_type": "code",
   "execution_count": 19,
   "metadata": {
    "collapsed": true
   },
   "outputs": [],
   "source": [
    "# TODO: Tune Parameters\n",
    "epochs = 20\n",
    "batch_size = 256\n",
    "keep_probability = 0.5"
   ]
  },
  {
   "cell_type": "markdown",
   "metadata": {},
   "source": [
    "### Train on a Single CIFAR-10 Batch\n",
    "Instead of training the neural network on all the CIFAR-10 batches of data, let's use a single batch. This should save time while you iterate on the model to get a better accuracy.  Once the final validation accuracy is 50% or greater, run the model on all the data in the next section."
   ]
  },
  {
   "cell_type": "code",
   "execution_count": 20,
   "metadata": {},
   "outputs": [
    {
     "name": "stdout",
     "output_type": "stream",
     "text": [
      "Checking the Training on a Single Batch...\n",
      "Epoch  1, CIFAR-10 Batch 1:  cost: 2.1586689949035645, accuracy: 0.2791999876499176\n",
      "Epoch  2, CIFAR-10 Batch 1:  cost: 1.8494703769683838, accuracy: 0.37599998712539673\n",
      "Epoch  3, CIFAR-10 Batch 1:  cost: 1.6458446979522705, accuracy: 0.415800005197525\n",
      "Epoch  4, CIFAR-10 Batch 1:  cost: 1.4733401536941528, accuracy: 0.4650000035762787\n",
      "Epoch  5, CIFAR-10 Batch 1:  cost: 1.3163397312164307, accuracy: 0.4851999878883362\n",
      "Epoch  6, CIFAR-10 Batch 1:  cost: 1.140217661857605, accuracy: 0.5090000033378601\n",
      "Epoch  7, CIFAR-10 Batch 1:  cost: 1.015900731086731, accuracy: 0.5284000039100647\n",
      "Epoch  8, CIFAR-10 Batch 1:  cost: 0.9093337059020996, accuracy: 0.5356000065803528\n",
      "Epoch  9, CIFAR-10 Batch 1:  cost: 0.8001912832260132, accuracy: 0.5299999713897705\n",
      "Epoch 10, CIFAR-10 Batch 1:  cost: 0.704074501991272, accuracy: 0.5436000227928162\n",
      "Epoch 11, CIFAR-10 Batch 1:  cost: 0.5528400540351868, accuracy: 0.5605999827384949\n",
      "Epoch 12, CIFAR-10 Batch 1:  cost: 0.4844941198825836, accuracy: 0.5544000267982483\n",
      "Epoch 13, CIFAR-10 Batch 1:  cost: 0.4065273404121399, accuracy: 0.5655999779701233\n",
      "Epoch 14, CIFAR-10 Batch 1:  cost: 0.3545655310153961, accuracy: 0.5608000159263611\n",
      "Epoch 15, CIFAR-10 Batch 1:  cost: 0.2754976153373718, accuracy: 0.5515999794006348\n",
      "Epoch 16, CIFAR-10 Batch 1:  cost: 0.26740264892578125, accuracy: 0.5461999773979187\n",
      "Epoch 17, CIFAR-10 Batch 1:  cost: 0.20822882652282715, accuracy: 0.5685999989509583\n",
      "Epoch 18, CIFAR-10 Batch 1:  cost: 0.1563558578491211, accuracy: 0.5871999859809875\n",
      "Epoch 19, CIFAR-10 Batch 1:  cost: 0.1534533053636551, accuracy: 0.5788000226020813\n",
      "Epoch 20, CIFAR-10 Batch 1:  cost: 0.09361302852630615, accuracy: 0.5878000259399414\n"
     ]
    }
   ],
   "source": [
    "\"\"\"\n",
    "DON'T MODIFY ANYTHING IN THIS CELL\n",
    "\"\"\"\n",
    "print('Checking the Training on a Single Batch...')\n",
    "with tf.Session() as sess:\n",
    "    # Initializing the variables\n",
    "    sess.run(tf.global_variables_initializer())\n",
    "    \n",
    "    # Training cycle\n",
    "    for epoch in range(epochs):\n",
    "        batch_i = 1\n",
    "        for batch_features, batch_labels in helper.load_preprocess_training_batch(batch_i, batch_size):\n",
    "            train_neural_network(sess, optimizer, keep_probability, batch_features, batch_labels)\n",
    "        print('Epoch {:>2}, CIFAR-10 Batch {}:  '.format(epoch + 1, batch_i), end='')\n",
    "        print_stats(sess, batch_features, batch_labels, cost, accuracy)"
   ]
  },
  {
   "cell_type": "markdown",
   "metadata": {},
   "source": [
    "### Fully Train the Model\n",
    "Now that you got a good accuracy with a single CIFAR-10 batch, try it with all five batches."
   ]
  },
  {
   "cell_type": "code",
   "execution_count": 21,
   "metadata": {},
   "outputs": [
    {
     "name": "stdout",
     "output_type": "stream",
     "text": [
      "Training...\n",
      "Epoch  1, CIFAR-10 Batch 1:  cost: 2.142587184906006, accuracy: 0.210999995470047\n",
      "Epoch  1, CIFAR-10 Batch 2:  cost: 1.9515190124511719, accuracy: 0.31540000438690186\n",
      "Epoch  1, CIFAR-10 Batch 3:  cost: 1.5716861486434937, accuracy: 0.37299999594688416\n",
      "Epoch  1, CIFAR-10 Batch 4:  cost: 1.5035619735717773, accuracy: 0.4431999921798706\n",
      "Epoch  1, CIFAR-10 Batch 5:  cost: 1.4816261529922485, accuracy: 0.4699999988079071\n",
      "Epoch  2, CIFAR-10 Batch 1:  cost: 1.6053386926651, accuracy: 0.4733999967575073\n",
      "Epoch  2, CIFAR-10 Batch 2:  cost: 1.242261528968811, accuracy: 0.5126000046730042\n",
      "Epoch  2, CIFAR-10 Batch 3:  cost: 1.032175064086914, accuracy: 0.5203999876976013\n",
      "Epoch  2, CIFAR-10 Batch 4:  cost: 1.1495716571807861, accuracy: 0.54339998960495\n",
      "Epoch  2, CIFAR-10 Batch 5:  cost: 1.1991527080535889, accuracy: 0.5437999963760376\n",
      "Epoch  3, CIFAR-10 Batch 1:  cost: 1.320631742477417, accuracy: 0.5562000274658203\n",
      "Epoch  3, CIFAR-10 Batch 2:  cost: 1.011122226715088, accuracy: 0.5651999711990356\n",
      "Epoch  3, CIFAR-10 Batch 3:  cost: 0.7514820098876953, accuracy: 0.5645999908447266\n",
      "Epoch  3, CIFAR-10 Batch 4:  cost: 0.9529502987861633, accuracy: 0.5781999826431274\n",
      "Epoch  3, CIFAR-10 Batch 5:  cost: 0.9971379041671753, accuracy: 0.5687999725341797\n",
      "Epoch  4, CIFAR-10 Batch 1:  cost: 1.0968396663665771, accuracy: 0.5838000178337097\n",
      "Epoch  4, CIFAR-10 Batch 2:  cost: 0.7664310932159424, accuracy: 0.6018000245094299\n",
      "Epoch  4, CIFAR-10 Batch 3:  cost: 0.612354576587677, accuracy: 0.5777999758720398\n",
      "Epoch  4, CIFAR-10 Batch 4:  cost: 0.7105892300605774, accuracy: 0.6114000082015991\n",
      "Epoch  4, CIFAR-10 Batch 5:  cost: 0.7338120937347412, accuracy: 0.5997999906539917\n",
      "Epoch  5, CIFAR-10 Batch 1:  cost: 0.8470479249954224, accuracy: 0.6240000128746033\n",
      "Epoch  5, CIFAR-10 Batch 2:  cost: 0.6053608655929565, accuracy: 0.6287999749183655\n",
      "Epoch  5, CIFAR-10 Batch 3:  cost: 0.4618034362792969, accuracy: 0.6195999979972839\n",
      "Epoch  5, CIFAR-10 Batch 4:  cost: 0.5798357129096985, accuracy: 0.6248000264167786\n",
      "Epoch  5, CIFAR-10 Batch 5:  cost: 0.581135094165802, accuracy: 0.6331999897956848\n",
      "Epoch  6, CIFAR-10 Batch 1:  cost: 0.7389415502548218, accuracy: 0.6273999810218811\n",
      "Epoch  6, CIFAR-10 Batch 2:  cost: 0.47157710790634155, accuracy: 0.6484000086784363\n",
      "Epoch  6, CIFAR-10 Batch 3:  cost: 0.36389827728271484, accuracy: 0.6474000215530396\n",
      "Epoch  6, CIFAR-10 Batch 4:  cost: 0.44578248262405396, accuracy: 0.6388000249862671\n",
      "Epoch  6, CIFAR-10 Batch 5:  cost: 0.42970433831214905, accuracy: 0.6462000012397766\n",
      "Epoch  7, CIFAR-10 Batch 1:  cost: 0.533995509147644, accuracy: 0.6588000059127808\n",
      "Epoch  7, CIFAR-10 Batch 2:  cost: 0.3410530388355255, accuracy: 0.6528000235557556\n",
      "Epoch  7, CIFAR-10 Batch 3:  cost: 0.31674131751060486, accuracy: 0.6552000045776367\n",
      "Epoch  7, CIFAR-10 Batch 4:  cost: 0.3433536887168884, accuracy: 0.6647999882698059\n",
      "Epoch  7, CIFAR-10 Batch 5:  cost: 0.3717939853668213, accuracy: 0.6593999862670898\n",
      "Epoch  8, CIFAR-10 Batch 1:  cost: 0.39967599511146545, accuracy: 0.656000018119812\n",
      "Epoch  8, CIFAR-10 Batch 2:  cost: 0.2509073317050934, accuracy: 0.6687999963760376\n",
      "Epoch  8, CIFAR-10 Batch 3:  cost: 0.24904568493366241, accuracy: 0.6377999782562256\n",
      "Epoch  8, CIFAR-10 Batch 4:  cost: 0.2582899034023285, accuracy: 0.656000018119812\n",
      "Epoch  8, CIFAR-10 Batch 5:  cost: 0.26725855469703674, accuracy: 0.6736000180244446\n",
      "Epoch  9, CIFAR-10 Batch 1:  cost: 0.3137928545475006, accuracy: 0.6556000113487244\n",
      "Epoch  9, CIFAR-10 Batch 2:  cost: 0.19063469767570496, accuracy: 0.6796000003814697\n",
      "Epoch  9, CIFAR-10 Batch 3:  cost: 0.19588075578212738, accuracy: 0.6435999870300293\n",
      "Epoch  9, CIFAR-10 Batch 4:  cost: 0.20846614241600037, accuracy: 0.6614000201225281\n",
      "Epoch  9, CIFAR-10 Batch 5:  cost: 0.2257896363735199, accuracy: 0.6650000214576721\n",
      "Epoch 10, CIFAR-10 Batch 1:  cost: 0.22955067455768585, accuracy: 0.6740000247955322\n",
      "Epoch 10, CIFAR-10 Batch 2:  cost: 0.15430784225463867, accuracy: 0.6791999936103821\n",
      "Epoch 10, CIFAR-10 Batch 3:  cost: 0.15309807658195496, accuracy: 0.6384000182151794\n",
      "Epoch 10, CIFAR-10 Batch 4:  cost: 0.17110107839107513, accuracy: 0.6610000133514404\n",
      "Epoch 10, CIFAR-10 Batch 5:  cost: 0.17337295413017273, accuracy: 0.6759999990463257\n",
      "Epoch 11, CIFAR-10 Batch 1:  cost: 0.17386777698993683, accuracy: 0.6815999746322632\n",
      "Epoch 11, CIFAR-10 Batch 2:  cost: 0.12837573885917664, accuracy: 0.675599992275238\n",
      "Epoch 11, CIFAR-10 Batch 3:  cost: 0.1266070306301117, accuracy: 0.6338000297546387\n",
      "Epoch 11, CIFAR-10 Batch 4:  cost: 0.14992861449718475, accuracy: 0.6776000261306763\n",
      "Epoch 11, CIFAR-10 Batch 5:  cost: 0.11595571041107178, accuracy: 0.6886000037193298\n",
      "Epoch 12, CIFAR-10 Batch 1:  cost: 0.14064164459705353, accuracy: 0.6700000166893005\n",
      "Epoch 12, CIFAR-10 Batch 2:  cost: 0.10302351415157318, accuracy: 0.670199990272522\n",
      "Epoch 12, CIFAR-10 Batch 3:  cost: 0.08048644661903381, accuracy: 0.6516000032424927\n",
      "Epoch 12, CIFAR-10 Batch 4:  cost: 0.09912008047103882, accuracy: 0.6769999861717224\n",
      "Epoch 12, CIFAR-10 Batch 5:  cost: 0.08909416198730469, accuracy: 0.6868000030517578\n",
      "Epoch 13, CIFAR-10 Batch 1:  cost: 0.11391875892877579, accuracy: 0.6704000234603882\n",
      "Epoch 13, CIFAR-10 Batch 2:  cost: 0.08616967499256134, accuracy: 0.6669999957084656\n",
      "Epoch 13, CIFAR-10 Batch 3:  cost: 0.08083794265985489, accuracy: 0.650600016117096\n",
      "Epoch 13, CIFAR-10 Batch 4:  cost: 0.0869152769446373, accuracy: 0.6841999888420105\n",
      "Epoch 13, CIFAR-10 Batch 5:  cost: 0.06817658245563507, accuracy: 0.6833999752998352\n",
      "Epoch 14, CIFAR-10 Batch 1:  cost: 0.1139407530426979, accuracy: 0.6678000092506409\n",
      "Epoch 14, CIFAR-10 Batch 2:  cost: 0.0719120055437088, accuracy: 0.6723999977111816\n",
      "Epoch 14, CIFAR-10 Batch 3:  cost: 0.07055088877677917, accuracy: 0.6603999733924866\n",
      "Epoch 14, CIFAR-10 Batch 4:  cost: 0.0572318509221077, accuracy: 0.6801999807357788\n",
      "Epoch 14, CIFAR-10 Batch 5:  cost: 0.05743659287691116, accuracy: 0.6832000017166138\n",
      "Epoch 15, CIFAR-10 Batch 1:  cost: 0.06324851512908936, accuracy: 0.6873999834060669\n",
      "Epoch 15, CIFAR-10 Batch 2:  cost: 0.05681207776069641, accuracy: 0.6779999732971191\n",
      "Epoch 15, CIFAR-10 Batch 3:  cost: 0.07268252223730087, accuracy: 0.6456000208854675\n",
      "Epoch 15, CIFAR-10 Batch 4:  cost: 0.05023357272148132, accuracy: 0.6661999821662903\n",
      "Epoch 15, CIFAR-10 Batch 5:  cost: 0.04081307724118233, accuracy: 0.6814000010490417\n",
      "Epoch 16, CIFAR-10 Batch 1:  cost: 0.06760496646165848, accuracy: 0.6711999773979187\n",
      "Epoch 16, CIFAR-10 Batch 2:  cost: 0.034740887582302094, accuracy: 0.6746000051498413\n",
      "Epoch 16, CIFAR-10 Batch 3:  cost: 0.04590138792991638, accuracy: 0.6150000095367432\n",
      "Epoch 16, CIFAR-10 Batch 4:  cost: 0.04790296033024788, accuracy: 0.6615999937057495\n",
      "Epoch 16, CIFAR-10 Batch 5:  cost: 0.04897958040237427, accuracy: 0.6661999821662903\n",
      "Epoch 17, CIFAR-10 Batch 1:  cost: 0.04740602523088455, accuracy: 0.6593999862670898\n",
      "Epoch 17, CIFAR-10 Batch 2:  cost: 0.02505013346672058, accuracy: 0.6733999848365784\n",
      "Epoch 17, CIFAR-10 Batch 3:  cost: 0.029141362756490707, accuracy: 0.6625999808311462\n",
      "Epoch 17, CIFAR-10 Batch 4:  cost: 0.03640621900558472, accuracy: 0.6687999963760376\n",
      "Epoch 17, CIFAR-10 Batch 5:  cost: 0.03004731610417366, accuracy: 0.6773999929428101\n",
      "Epoch 18, CIFAR-10 Batch 1:  cost: 0.030786380171775818, accuracy: 0.6620000004768372\n",
      "Epoch 18, CIFAR-10 Batch 2:  cost: 0.04193929582834244, accuracy: 0.6588000059127808\n",
      "Epoch 18, CIFAR-10 Batch 3:  cost: 0.02658771350979805, accuracy: 0.657800018787384\n",
      "Epoch 18, CIFAR-10 Batch 4:  cost: 0.022137437015771866, accuracy: 0.6805999875068665\n",
      "Epoch 18, CIFAR-10 Batch 5:  cost: 0.0338175967335701, accuracy: 0.647599995136261\n",
      "Epoch 19, CIFAR-10 Batch 1:  cost: 0.030901450663805008, accuracy: 0.656000018119812\n",
      "Epoch 19, CIFAR-10 Batch 2:  cost: 0.020744144916534424, accuracy: 0.6647999882698059\n",
      "Epoch 19, CIFAR-10 Batch 3:  cost: 0.04296828433871269, accuracy: 0.6363999843597412\n",
      "Epoch 19, CIFAR-10 Batch 4:  cost: 0.024408910423517227, accuracy: 0.6723999977111816\n",
      "Epoch 19, CIFAR-10 Batch 5:  cost: 0.026677465066313744, accuracy: 0.6349999904632568\n",
      "Epoch 20, CIFAR-10 Batch 1:  cost: 0.023369377478957176, accuracy: 0.6620000004768372\n",
      "Epoch 20, CIFAR-10 Batch 2:  cost: 0.011638202704489231, accuracy: 0.6647999882698059\n"
     ]
    },
    {
     "name": "stdout",
     "output_type": "stream",
     "text": [
      "Epoch 20, CIFAR-10 Batch 3:  cost: 0.032747186720371246, accuracy: 0.6394000053405762\n",
      "Epoch 20, CIFAR-10 Batch 4:  cost: 0.014070856384932995, accuracy: 0.6668000221252441\n",
      "Epoch 20, CIFAR-10 Batch 5:  cost: 0.01395870465785265, accuracy: 0.6485999822616577\n"
     ]
    }
   ],
   "source": [
    "\"\"\"\n",
    "DON'T MODIFY ANYTHING IN THIS CELL\n",
    "\"\"\"\n",
    "save_model_path = './image_classification'\n",
    "\n",
    "print('Training...')\n",
    "with tf.Session() as sess:\n",
    "    # Initializing the variables\n",
    "    sess.run(tf.global_variables_initializer())\n",
    "    \n",
    "    # Training cycle\n",
    "    for epoch in range(epochs):\n",
    "        # Loop over all batches\n",
    "        n_batches = 5\n",
    "        for batch_i in range(1, n_batches + 1):\n",
    "            for batch_features, batch_labels in helper.load_preprocess_training_batch(batch_i, batch_size):\n",
    "                train_neural_network(sess, optimizer, keep_probability, batch_features, batch_labels)\n",
    "            print('Epoch {:>2}, CIFAR-10 Batch {}:  '.format(epoch + 1, batch_i), end='')\n",
    "            print_stats(sess, batch_features, batch_labels, cost, accuracy)\n",
    "            \n",
    "    # Save Model\n",
    "    saver = tf.train.Saver()\n",
    "    save_path = saver.save(sess, save_model_path)"
   ]
  },
  {
   "cell_type": "markdown",
   "metadata": {},
   "source": [
    "# Checkpoint\n",
    "The model has been saved to disk.\n",
    "## Test Model\n",
    "Test your model against the test dataset.  This will be your final accuracy. You should have an accuracy greater than 50%. If you don't, keep tweaking the model architecture and parameters."
   ]
  },
  {
   "cell_type": "code",
   "execution_count": 22,
   "metadata": {},
   "outputs": [
    {
     "name": "stdout",
     "output_type": "stream",
     "text": [
      "INFO:tensorflow:Restoring parameters from ./image_classification\n",
      "Testing Accuracy: 0.6396484375\n",
      "\n"
     ]
    },
    {
     "data": {
      "image/png": "[encoded data removed]",
      "text/plain": [
       "<matplotlib.figure.Figure at 0x13673d320>"
      ]
     },
     "metadata": {
      "image/png": {
       "height": 319,
       "width": 355
      }
     },
     "output_type": "display_data"
    }
   ],
   "source": [
    "\"\"\"\n",
    "DON'T MODIFY ANYTHING IN THIS CELL\n",
    "\"\"\"\n",
    "%matplotlib inline\n",
    "%config InlineBackend.figure_format = 'retina'\n",
    "\n",
    "import tensorflow as tf\n",
    "import pickle\n",
    "import helper\n",
    "import random\n",
    "\n",
    "# Set batch size if not already set\n",
    "try:\n",
    "    if batch_size:\n",
    "        pass\n",
    "except NameError:\n",
    "    batch_size = 64\n",
    "\n",
    "save_model_path = './image_classification'\n",
    "n_samples = 4\n",
    "top_n_predictions = 3\n",
    "\n",
    "def test_model():\n",
    "    \"\"\"\n",
    "    Test the saved model against the test dataset\n",
    "    \"\"\"\n",
    "\n",
    "    test_features, test_labels = pickle.load(open('preprocess_test.p', mode='rb'))\n",
    "    loaded_graph = tf.Graph()\n",
    "\n",
    "    with tf.Session(graph=loaded_graph) as sess:\n",
    "        # Load model\n",
    "        loader = tf.train.import_meta_graph(save_model_path + '.meta')\n",
    "        loader.restore(sess, save_model_path)\n",
    "\n",
    "        # Get Tensors from loaded model\n",
    "        loaded_x = loaded_graph.get_tensor_by_name('x:0')\n",
    "        loaded_y = loaded_graph.get_tensor_by_name('y:0')\n",
    "        loaded_keep_prob = loaded_graph.get_tensor_by_name('keep_prob:0')\n",
    "        loaded_logits = loaded_graph.get_tensor_by_name('logits:0')\n",
    "        loaded_acc = loaded_graph.get_tensor_by_name('accuracy:0')\n",
    "        \n",
    "        # Get accuracy in batches for memory limitations\n",
    "        test_batch_acc_total = 0\n",
    "        test_batch_count = 0\n",
    "        \n",
    "        for test_feature_batch, test_label_batch in helper.batch_features_labels(test_features, test_labels, batch_size):\n",
    "            test_batch_acc_total += sess.run(\n",
    "                loaded_acc,\n",
    "                feed_dict={loaded_x: test_feature_batch, loaded_y: test_label_batch, loaded_keep_prob: 1.0})\n",
    "            test_batch_count += 1\n",
    "\n",
    "        print('Testing Accuracy: {}\\n'.format(test_batch_acc_total/test_batch_count))\n",
    "\n",
    "        # Print Random Samples\n",
    "        random_test_features, random_test_labels = tuple(zip(*random.sample(list(zip(test_features, test_labels)), n_samples)))\n",
    "        random_test_predictions = sess.run(\n",
    "            tf.nn.top_k(tf.nn.softmax(loaded_logits), top_n_predictions),\n",
    "            feed_dict={loaded_x: random_test_features, loaded_y: random_test_labels, loaded_keep_prob: 1.0})\n",
    "        helper.display_image_predictions(random_test_features, random_test_labels, random_test_predictions)\n",
    "\n",
    "\n",
    "test_model()"
   ]
  },
  {
   "cell_type": "markdown",
   "metadata": {},
   "source": [
    "## Why 50-80% Accuracy?\n",
    "You might be wondering why you can't get an accuracy any higher. First things first, 50% isn't bad for a simple CNN.  Pure guessing would get you 10% accuracy. However, you might notice people are getting scores [well above 80%](http://rodrigob.github.io/are_we_there_yet/build/classification_datasets_results.html#43494641522d3130).  That's because we haven't taught you all there is to know about neural networks. We still need to cover a few more techniques.\n",
    "## Submitting This Project\n",
    "When submitting this project, make sure to run all the cells before saving the notebook.  Save the notebook file as \"dlnd_image_classification.ipynb\" and save it as a HTML file under \"File\" -> \"Download as\".  Include the \"helper.py\" and \"problem_unittests.py\" files in your submission."
   ]
  },
  {
   "cell_type": "code",
   "execution_count": null,
   "metadata": {
    "collapsed": true
   },
   "outputs": [],
   "source": []
  }
 ],
 "metadata": {
  "kernelspec": {
   "display_name": "Python 3",
   "language": "python",
   "name": "python3"
  },
  "language_info": {
   "codemirror_mode": {
    "name": "ipython",
    "version": 3
   },
   "file_extension": ".py",
   "mimetype": "text/x-python",
   "name": "python",
   "nbconvert_exporter": "python",
   "pygments_lexer": "ipython3",
   "version": "3.6.1"
  }
 },
 "nbformat": 4,
 "nbformat_minor": 1
}
